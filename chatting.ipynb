{
 "cells": [
  {
   "cell_type": "code",
   "execution_count": null,
   "metadata": {},
   "outputs": [
    {
     "name": "stderr",
     "output_type": "stream",
     "text": [
      "C:\\Users\\SAGOR\\Anaconda3\\envs\\nlp\\lib\\site-packages\\gensim\\utils.py:1197: UserWarning: detected Windows; aliasing chunkize to chunkize_serial\n",
      "  warnings.warn(\"detected Windows; aliasing chunkize to chunkize_serial\")\n",
      "Using TensorFlow backend.\n"
     ]
    }
   ],
   "source": [
    "import os\n",
    "from scipy import spatial\n",
    "import numpy as np\n",
    "import gensim\n",
    "import nltk\n",
    "from keras.models import load_model\n",
    "\n",
    "\n",
    "import theano\n",
    "theano.config.optimizer=\"None\"\n",
    "\n",
    "\n",
    "model=load_model('LSTM500.h5')\n",
    "#mod = gensim.models.Word2Vec.load('toy_data/model.bin');\n",
    "mod = gensim.models.Word2Vec.load('G:/thesis/4_2/200D_model_cbow/word2vec_model.model');\n",
    "while(True):\n",
    "    x=input(\"Enter the message:\");\n",
    "    sentend=np.ones((200,),dtype=np.float32) \n",
    "\n",
    "    sent=nltk.word_tokenize(x.lower())\n",
    "    sentvec = [mod[w] for w in sent if w in mod.wv.vocab]\n",
    "\n",
    "    sentvec[14:]=[]\n",
    "    sentvec.append(sentend)\n",
    "    if len(sentvec)<15:\n",
    "        for i in range(15-len(sentvec)):\n",
    "            sentvec.append(sentend) \n",
    "    sentvec=np.array([sentvec])\n",
    "    \n",
    "    predictions = model.predict(sentvec)\n",
    "    outputlist=[mod.most_similar([predictions[0][i]])[0][0] for i in range(4)]\n",
    "    output=' '.join(outputlist)\n",
    "    print(output)"
   ]
  },
  {
   "cell_type": "code",
   "execution_count": null,
   "metadata": {},
   "outputs": [],
   "source": []
  }
 ],
 "metadata": {
  "kernelspec": {
   "display_name": "Python 3",
   "language": "python",
   "name": "python3"
  },
  "language_info": {
   "codemirror_mode": {
    "name": "ipython",
    "version": 3
   },
   "file_extension": ".py",
   "mimetype": "text/x-python",
   "name": "python",
   "nbconvert_exporter": "python",
   "pygments_lexer": "ipython3",
   "version": "3.6.6"
  }
 },
 "nbformat": 4,
 "nbformat_minor": 2
}
